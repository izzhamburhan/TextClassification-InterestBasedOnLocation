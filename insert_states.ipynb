{
 "cells": [
  {
   "cell_type": "code",
   "execution_count": 7,
   "metadata": {},
   "outputs": [],
   "source": [
    "import pandas as pd"
   ]
  },
  {
   "cell_type": "code",
   "execution_count": 8,
   "metadata": {},
   "outputs": [],
   "source": [
    "dpol = pd.read_csv('data/Data-politics.csv')\n",
    "dedu = pd.read_csv('data/Data-education.csv')\n",
    "dfoo = pd.read_csv('data/Data-food&drinks.csv')\n",
    "dspo = pd.read_csv('data/Data-sports.csv')\n",
    "dtec = pd.read_csv('data/Data-technology.csv')\n",
    "dent = pd.read_csv('data/Data-entertainment.csv')"
   ]
  },
  {
   "cell_type": "code",
   "execution_count": 10,
   "metadata": {},
   "outputs": [],
   "source": [
    "states = [\n",
    "    \"Johor\", \"Kedah\", \"Kelantan\", \"Melaka\", \"Negeri Sembilan\", \"Pahang\",\n",
    "    \"Perak\", \"Perlis\", \"Pulau Pinang\", \"Sabah\", \"Sarawak\", \"Selangor\", \"Terengganu\",\n",
    "    \"Kuala Lumpur\", \"Labuan\", \"Putrajaya\"\n",
    "]"
   ]
  },
  {
   "cell_type": "code",
   "execution_count": 11,
   "metadata": {},
   "outputs": [],
   "source": [
    "# Function to find state names in text and set in location column\n",
    "def find_state(text):\n",
    "    for state in states:\n",
    "        if state.lower() in text.lower():\n",
    "            return state\n",
    "    return \"\""
   ]
  },
  {
   "cell_type": "code",
   "execution_count": 12,
   "metadata": {},
   "outputs": [],
   "source": [
    "dpol['location'] = dpol['text'].apply(find_state)\n",
    "dedu['location'] = dedu['text'].apply(find_state)\n",
    "dspo['location'] = dspo['text'].apply(find_state)\n",
    "dfoo['location'] = dfoo['text'].apply(find_state)\n",
    "dtec['location'] = dtec['text'].apply(find_state)\n",
    "dent['location'] = dent['text'].apply(find_state)"
   ]
  },
  {
   "cell_type": "code",
   "execution_count": 20,
   "metadata": {},
   "outputs": [
    {
     "data": {
      "text/plain": [
       "array(['', 'Kedah', 'Terengganu', 'Sarawak', 'Selangor', 'Sabah',\n",
       "       'Kuala Lumpur', 'Pahang', 'Kelantan', 'Pulau Pinang', 'Putrajaya',\n",
       "       'Melaka', 'Johor', 'Perlis', 'Perak'], dtype=object)"
      ]
     },
     "execution_count": 20,
     "metadata": {},
     "output_type": "execute_result"
    }
   ],
   "source": [
    "dpol['location'].unique()"
   ]
  },
  {
   "cell_type": "code",
   "execution_count": 21,
   "metadata": {},
   "outputs": [
    {
     "name": "stdout",
     "output_type": "stream",
     "text": [
      "['', 'Kedah', 'Terengganu', 'Sarawak', 'Selangor', 'Sabah', 'Kuala Lumpur', 'Pahang', 'Kelantan', 'Pulau Pinang', 'Putrajaya', 'Melaka', 'Johor', 'Perlis', 'Perak']\n"
     ]
    }
   ],
   "source": [
    "print(dpol.location.unique().tolist())"
   ]
  },
  {
   "cell_type": "code",
   "execution_count": 47,
   "metadata": {},
   "outputs": [],
   "source": [
    "# dpol.to_csv('data/state/Data-politics-state.csv')\n",
    "# dedu.to_csv('data/state/Data-education-state.csv')\n",
    "# dspo.to_csv('data/state/Data-sports-state.csv')\n",
    "# dfoo.to_csv('data/state/Data-food-state.csv')\n",
    "# dtec.to_csv('data/state/Data-tech-state.csv')\n",
    "# dent.to_csv('data/state/Data-entertainment-state.csv')"
   ]
  }
 ],
 "metadata": {
  "kernelspec": {
   "display_name": "Python 3",
   "language": "python",
   "name": "python3"
  },
  "language_info": {
   "codemirror_mode": {
    "name": "ipython",
    "version": 3
   },
   "file_extension": ".py",
   "mimetype": "text/x-python",
   "name": "python",
   "nbconvert_exporter": "python",
   "pygments_lexer": "ipython3",
   "version": "3.11.2"
  },
  "orig_nbformat": 4
 },
 "nbformat": 4,
 "nbformat_minor": 2
}
