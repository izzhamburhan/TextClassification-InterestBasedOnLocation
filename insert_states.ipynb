{
 "cells": [
  {
   "cell_type": "code",
   "execution_count": 7,
   "metadata": {},
   "outputs": [],
   "source": [
    "import pandas as pd"
   ]
  },
  {
   "cell_type": "code",
   "execution_count": 8,
   "metadata": {},
   "outputs": [],
   "source": [
    "dpol = pd.read_csv('data/Data-politics.csv')\n",
    "dedu = pd.read_csv('data/Data-education.csv')\n",
    "dfoo = pd.read_csv('data/Data-food&drinks.csv')\n",
    "dspo = pd.read_csv('data/Data-sports.csv')\n",
    "dtec = pd.read_csv('data/Data-technology.csv')\n",
    "dent = pd.read_csv('data/Data-entertainment.csv')"
   ]
  },
  {
   "cell_type": "code",
   "execution_count": 9,
   "metadata": {},
   "outputs": [
    {
     "data": {
      "text/html": [
       "<div>\n",
       "<style scoped>\n",
       "    .dataframe tbody tr th:only-of-type {\n",
       "        vertical-align: middle;\n",
       "    }\n",
       "\n",
       "    .dataframe tbody tr th {\n",
       "        vertical-align: top;\n",
       "    }\n",
       "\n",
       "    .dataframe thead th {\n",
       "        text-align: right;\n",
       "    }\n",
       "</style>\n",
       "<table border=\"1\" class=\"dataframe\">\n",
       "  <thead>\n",
       "    <tr style=\"text-align: right;\">\n",
       "      <th></th>\n",
       "      <th>no</th>\n",
       "      <th>text</th>\n",
       "      <th>location</th>\n",
       "      <th>interest</th>\n",
       "    </tr>\n",
       "  </thead>\n",
       "  <tbody>\n",
       "    <tr>\n",
       "      <th>0</th>\n",
       "      <td>1</td>\n",
       "      <td>Malaysia I would argue has in its constitution...</td>\n",
       "      <td>NaN</td>\n",
       "      <td>Politics</td>\n",
       "    </tr>\n",
       "    <tr>\n",
       "      <th>1</th>\n",
       "      <td>2</td>\n",
       "      <td>Khairy plays devil's advocate with Azmin | 9 A...</td>\n",
       "      <td>NaN</td>\n",
       "      <td>Politics</td>\n",
       "    </tr>\n",
       "    <tr>\n",
       "      <th>2</th>\n",
       "      <td>3</td>\n",
       "      <td>STICKING POINT: A clear sign that racial polit...</td>\n",
       "      <td>NaN</td>\n",
       "      <td>Politics</td>\n",
       "    </tr>\n",
       "    <tr>\n",
       "      <th>3</th>\n",
       "      <td>4</td>\n",
       "      <td>@dom_lucre Elon muppet. Lives in Malaysia but ...</td>\n",
       "      <td>NaN</td>\n",
       "      <td>Politics</td>\n",
       "    </tr>\n",
       "    <tr>\n",
       "      <th>4</th>\n",
       "      <td>5</td>\n",
       "      <td>@dom_lucre I've never like Ian Miles Choeng. W...</td>\n",
       "      <td>NaN</td>\n",
       "      <td>Politics</td>\n",
       "    </tr>\n",
       "    <tr>\n",
       "      <th>...</th>\n",
       "      <td>...</td>\n",
       "      <td>...</td>\n",
       "      <td>...</td>\n",
       "      <td>...</td>\n",
       "    </tr>\n",
       "    <tr>\n",
       "      <th>2180</th>\n",
       "      <td>2181</td>\n",
       "      <td>to be truely honest, BB is such a hated\" brand...</td>\n",
       "      <td>NaN</td>\n",
       "      <td>Politics</td>\n",
       "    </tr>\n",
       "    <tr>\n",
       "      <th>2181</th>\n",
       "      <td>2182</td>\n",
       "      <td>@sayyedalifkhan A politician in Malaysia! 😂😂😂 ...</td>\n",
       "      <td>NaN</td>\n",
       "      <td>Politics</td>\n",
       "    </tr>\n",
       "    <tr>\n",
       "      <th>2182</th>\n",
       "      <td>2183</td>\n",
       "      <td>@TSDMujeebudeen While politician in Malaysia s...</td>\n",
       "      <td>NaN</td>\n",
       "      <td>Politics</td>\n",
       "    </tr>\n",
       "    <tr>\n",
       "      <th>2183</th>\n",
       "      <td>2184</td>\n",
       "      <td>@jorjxz Sri Lanka: Asshole politician flees. M...</td>\n",
       "      <td>NaN</td>\n",
       "      <td>Politics</td>\n",
       "    </tr>\n",
       "    <tr>\n",
       "      <th>2184</th>\n",
       "      <td>2185</td>\n",
       "      <td>As a politician originating from Umno once the...</td>\n",
       "      <td>NaN</td>\n",
       "      <td>Politics</td>\n",
       "    </tr>\n",
       "  </tbody>\n",
       "</table>\n",
       "<p>2185 rows × 4 columns</p>\n",
       "</div>"
      ],
      "text/plain": [
       "        no                                               text location  \\\n",
       "0        1  Malaysia I would argue has in its constitution...      NaN   \n",
       "1        2  Khairy plays devil's advocate with Azmin | 9 A...      NaN   \n",
       "2        3  STICKING POINT: A clear sign that racial polit...      NaN   \n",
       "3        4  @dom_lucre Elon muppet. Lives in Malaysia but ...      NaN   \n",
       "4        5  @dom_lucre I've never like Ian Miles Choeng. W...      NaN   \n",
       "...    ...                                                ...      ...   \n",
       "2180  2181  to be truely honest, BB is such a hated\" brand...      NaN   \n",
       "2181  2182  @sayyedalifkhan A politician in Malaysia! 😂😂😂 ...      NaN   \n",
       "2182  2183  @TSDMujeebudeen While politician in Malaysia s...      NaN   \n",
       "2183  2184  @jorjxz Sri Lanka: Asshole politician flees. M...      NaN   \n",
       "2184  2185  As a politician originating from Umno once the...      NaN   \n",
       "\n",
       "      interest  \n",
       "0     Politics  \n",
       "1     Politics  \n",
       "2     Politics  \n",
       "3     Politics  \n",
       "4     Politics  \n",
       "...        ...  \n",
       "2180  Politics  \n",
       "2181  Politics  \n",
       "2182  Politics  \n",
       "2183  Politics  \n",
       "2184  Politics  \n",
       "\n",
       "[2185 rows x 4 columns]"
      ]
     },
     "execution_count": 9,
     "metadata": {},
     "output_type": "execute_result"
    }
   ],
   "source": [
    "dpol"
   ]
  },
  {
   "cell_type": "code",
   "execution_count": 10,
   "metadata": {},
   "outputs": [],
   "source": [
    "states = [\n",
    "    \"Johor\", \"Kedah\", \"Kelantan\", \"Melaka\", \"Negeri Sembilan\", \"Pahang\",\n",
    "    \"Perak\", \"Perlis\", \"Pulau Pinang\", \"Sabah\", \"Sarawak\", \"Selangor\", \"Terengganu\",\n",
    "    \"Kuala Lumpur\", \"Labuan\", \"Putrajaya\"\n",
    "]"
   ]
  },
  {
   "cell_type": "code",
   "execution_count": 11,
   "metadata": {},
   "outputs": [],
   "source": [
    "# Function to find state names in text and set in location column\n",
    "def find_state(text):\n",
    "    for state in states:\n",
    "        if state.lower() in text.lower():\n",
    "            return state\n",
    "    return \"\""
   ]
  },
  {
   "cell_type": "code",
   "execution_count": 12,
   "metadata": {},
   "outputs": [],
   "source": [
    "dpol['location'] = dpol['text'].apply(find_state)\n",
    "dedu['location'] = dedu['text'].apply(find_state)\n",
    "dspo['location'] = dspo['text'].apply(find_state)\n",
    "dfoo['location'] = dfoo['text'].apply(find_state)\n",
    "dtec['location'] = dtec['text'].apply(find_state)\n",
    "dent['location'] = dent['text'].apply(find_state)"
   ]
  },
  {
   "cell_type": "code",
   "execution_count": 20,
   "metadata": {},
   "outputs": [
    {
     "data": {
      "text/plain": [
       "array(['', 'Kedah', 'Terengganu', 'Sarawak', 'Selangor', 'Sabah',\n",
       "       'Kuala Lumpur', 'Pahang', 'Kelantan', 'Pulau Pinang', 'Putrajaya',\n",
       "       'Melaka', 'Johor', 'Perlis', 'Perak'], dtype=object)"
      ]
     },
     "execution_count": 20,
     "metadata": {},
     "output_type": "execute_result"
    }
   ],
   "source": [
    "dpol['location'].unique()"
   ]
  },
  {
   "cell_type": "code",
   "execution_count": 21,
   "metadata": {},
   "outputs": [
    {
     "name": "stdout",
     "output_type": "stream",
     "text": [
      "['', 'Kedah', 'Terengganu', 'Sarawak', 'Selangor', 'Sabah', 'Kuala Lumpur', 'Pahang', 'Kelantan', 'Pulau Pinang', 'Putrajaya', 'Melaka', 'Johor', 'Perlis', 'Perak']\n"
     ]
    }
   ],
   "source": [
    "print(dpol.location.unique().tolist())"
   ]
  },
  {
   "cell_type": "code",
   "execution_count": 47,
   "metadata": {},
   "outputs": [],
   "source": [
    "# dpol.to_csv('data/state/Data-politics-state.csv')\n",
    "# dedu.to_csv('data/state/Data-education-state.csv')\n",
    "# dspo.to_csv('data/state/Data-sports-state.csv')\n",
    "# dfoo.to_csv('data/state/Data-food-state.csv')\n",
    "# dtec.to_csv('data/state/Data-tech-state.csv')\n",
    "# dent.to_csv('data/state/Data-entertainment-state.csv')"
   ]
  }
 ],
 "metadata": {
  "kernelspec": {
   "display_name": "Python 3",
   "language": "python",
   "name": "python3"
  },
  "language_info": {
   "codemirror_mode": {
    "name": "ipython",
    "version": 3
   },
   "file_extension": ".py",
   "mimetype": "text/x-python",
   "name": "python",
   "nbconvert_exporter": "python",
   "pygments_lexer": "ipython3",
   "version": "3.11.2"
  },
  "orig_nbformat": 4
 },
 "nbformat": 4,
 "nbformat_minor": 2
}
