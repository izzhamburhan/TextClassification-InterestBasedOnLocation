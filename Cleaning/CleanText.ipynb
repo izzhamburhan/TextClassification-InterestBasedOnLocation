{
 "cells": [
  {
   "cell_type": "code",
   "execution_count": 49,
   "metadata": {},
   "outputs": [],
   "source": [
    "import pandas as pd\n",
    "import re\n",
    "import string\n",
    "import nltk\n",
    "from langdetect import detect  # Import the language detection module\n",
    "from nltk.corpus import stopwords\n",
    "from nltk.tokenize import word_tokenize\n",
    "\n",
    "# # Download NLTK data (if not already downloaded)\n",
    "# nltk.download('punkt')\n",
    "# nltk.download('stopwords')"
   ]
  },
  {
   "cell_type": "code",
   "execution_count": 6,
   "metadata": {},
   "outputs": [],
   "source": [
    "# Load the CSV file into a pandas DataFrame\n",
    "df_edu = pd.read_csv('../data/state/Data-education-state.csv',encoding='unicode_escape')"
   ]
  },
  {
   "cell_type": "code",
   "execution_count": 7,
   "metadata": {},
   "outputs": [
    {
     "data": {
      "text/html": [
       "<div>\n",
       "<style scoped>\n",
       "    .dataframe tbody tr th:only-of-type {\n",
       "        vertical-align: middle;\n",
       "    }\n",
       "\n",
       "    .dataframe tbody tr th {\n",
       "        vertical-align: top;\n",
       "    }\n",
       "\n",
       "    .dataframe thead th {\n",
       "        text-align: right;\n",
       "    }\n",
       "</style>\n",
       "<table border=\"1\" class=\"dataframe\">\n",
       "  <thead>\n",
       "    <tr style=\"text-align: right;\">\n",
       "      <th></th>\n",
       "      <th>text</th>\n",
       "      <th>location</th>\n",
       "      <th>interest</th>\n",
       "    </tr>\n",
       "  </thead>\n",
       "  <tbody>\n",
       "    <tr>\n",
       "      <th>0</th>\n",
       "      <td>Going to a technology conference in Kuala Lumpur</td>\n",
       "      <td>Kuala Lumpur</td>\n",
       "      <td>Technology</td>\n",
       "    </tr>\n",
       "    <tr>\n",
       "      <th>1</th>\n",
       "      <td>Watching a football match in Johor Bahru</td>\n",
       "      <td>Johor</td>\n",
       "      <td>Sports</td>\n",
       "    </tr>\n",
       "    <tr>\n",
       "      <th>2</th>\n",
       "      <td>Trying a famous local food in Penang</td>\n",
       "      <td>NaN</td>\n",
       "      <td>Food</td>\n",
       "    </tr>\n",
       "    <tr>\n",
       "      <th>3</th>\n",
       "      <td>Attending a music concert in Kuala Lumpur</td>\n",
       "      <td>Kuala Lumpur</td>\n",
       "      <td>Entertainment</td>\n",
       "    </tr>\n",
       "    <tr>\n",
       "      <th>4</th>\n",
       "      <td>Following the latest political news in KL</td>\n",
       "      <td>NaN</td>\n",
       "      <td>Politics</td>\n",
       "    </tr>\n",
       "    <tr>\n",
       "      <th>...</th>\n",
       "      <td>...</td>\n",
       "      <td>...</td>\n",
       "      <td>...</td>\n",
       "    </tr>\n",
       "    <tr>\n",
       "      <th>5064</th>\n",
       "      <td>Who remembers the old school Nintendo Game Boy...</td>\n",
       "      <td>Kuala Lumpur</td>\n",
       "      <td>Education</td>\n",
       "    </tr>\n",
       "    <tr>\n",
       "      <th>5065</th>\n",
       "      <td>Hey there, rockstar medics! ?? Just wanted to ...</td>\n",
       "      <td>Kuala Lumpur</td>\n",
       "      <td>Education</td>\n",
       "    </tr>\n",
       "    <tr>\n",
       "      <th>5066</th>\n",
       "      <td>In primary school, that DAMN monkey from dasav...</td>\n",
       "      <td>Kuala Lumpur</td>\n",
       "      <td>Education</td>\n",
       "    </tr>\n",
       "    <tr>\n",
       "      <th>5067</th>\n",
       "      <td>Year 7s were today introduced to what their P...</td>\n",
       "      <td>Kuala Lumpur</td>\n",
       "      <td>Education</td>\n",
       "    </tr>\n",
       "    <tr>\n",
       "      <th>5068</th>\n",
       "      <td>my day job is school and my hobby when i get h...</td>\n",
       "      <td>Kuala Lumpur</td>\n",
       "      <td>Education</td>\n",
       "    </tr>\n",
       "  </tbody>\n",
       "</table>\n",
       "<p>5069 rows × 3 columns</p>\n",
       "</div>"
      ],
      "text/plain": [
       "                                                   text      location  \\\n",
       "0      Going to a technology conference in Kuala Lumpur  Kuala Lumpur   \n",
       "1              Watching a football match in Johor Bahru         Johor   \n",
       "2                  Trying a famous local food in Penang           NaN   \n",
       "3             Attending a music concert in Kuala Lumpur  Kuala Lumpur   \n",
       "4             Following the latest political news in KL           NaN   \n",
       "...                                                 ...           ...   \n",
       "5064  Who remembers the old school Nintendo Game Boy...  Kuala Lumpur   \n",
       "5065  Hey there, rockstar medics! ?? Just wanted to ...  Kuala Lumpur   \n",
       "5066  In primary school, that DAMN monkey from dasav...  Kuala Lumpur   \n",
       "5067  Year 7s were today introduced to what their P...  Kuala Lumpur   \n",
       "5068  my day job is school and my hobby when i get h...  Kuala Lumpur   \n",
       "\n",
       "           interest  \n",
       "0        Technology  \n",
       "1            Sports  \n",
       "2              Food  \n",
       "3     Entertainment  \n",
       "4          Politics  \n",
       "...             ...  \n",
       "5064      Education  \n",
       "5065      Education  \n",
       "5066      Education  \n",
       "5067      Education  \n",
       "5068      Education  \n",
       "\n",
       "[5069 rows x 3 columns]"
      ]
     },
     "execution_count": 7,
     "metadata": {},
     "output_type": "execute_result"
    }
   ],
   "source": [
    "df_edu"
   ]
  },
  {
   "cell_type": "code",
   "execution_count": 26,
   "metadata": {},
   "outputs": [
    {
     "data": {
      "text/plain": [
       "'2023 International Medical University (IMU) Scholarship For International Students  Apply Linkâ\\x86\\x99ï¸\\x8f https://t.co/b0ugHDKdNC  Host Country: Malaysia  Study level: â\\x80¢ Bachelor degree  Eligible Countries: All countries  Benefits:  â\\x9c\\x85RM4,000 â\\x80\\x93  RM12,000  Deadline: September 2023 https://t.co/zMBlS4J7HM'"
      ]
     },
     "execution_count": 26,
     "metadata": {},
     "output_type": "execute_result"
    }
   ],
   "source": [
    "text = df_edu['text'][672]\n",
    "text"
   ]
  },
  {
   "cell_type": "code",
   "execution_count": 27,
   "metadata": {},
   "outputs": [],
   "source": [
    "def clean_text(text):\n",
    "    # Remove URLs (http/https links)\n",
    "    text = re.sub(r'http\\S+', '', text)\n",
    "\n",
    "    # Remove special characters and non-alphanumeric characters\n",
    "    text = re.sub(r'[^a-zA-Z0-9\\s]', '', text)\n",
    "\n",
    "    # Remove extra spaces and leading/trailing spaces\n",
    "    text = ' '.join(text.split())\n",
    "\n",
    "    return text"
   ]
  },
  {
   "cell_type": "code",
   "execution_count": 28,
   "metadata": {},
   "outputs": [
    {
     "data": {
      "text/plain": [
       "'2023 International Medical University IMU Scholarship For International Students Apply Link Host Country Malaysia Study level Bachelor degree Eligible Countries All countries Benefits RM4000 RM12000 Deadline September 2023'"
      ]
     },
     "execution_count": 28,
     "metadata": {},
     "output_type": "execute_result"
    }
   ],
   "source": [
    "text = clean_text(text)\n",
    "text"
   ]
  },
  {
   "cell_type": "code",
   "execution_count": 29,
   "metadata": {},
   "outputs": [
    {
     "data": {
      "text/plain": [
       "'2023 international medical university imu scholarship for international students apply link host country malaysia study level bachelor degree eligible countries all countries benefits rm4000 rm12000 deadline september 2023'"
      ]
     },
     "execution_count": 29,
     "metadata": {},
     "output_type": "execute_result"
    }
   ],
   "source": [
    "text = text.lower()\n",
    "text"
   ]
  },
  {
   "cell_type": "code",
   "execution_count": 30,
   "metadata": {},
   "outputs": [
    {
     "data": {
      "text/plain": [
       "'2023 international medical university imu scholarship for international students apply link host country malaysia study level bachelor degree eligible countries all countries benefits rm4000 rm12000 deadline september 2023'"
      ]
     },
     "execution_count": 30,
     "metadata": {},
     "output_type": "execute_result"
    }
   ],
   "source": [
    "text = text.translate(str.maketrans('', '', string.punctuation))\n",
    "text"
   ]
  },
  {
   "cell_type": "code",
   "execution_count": 31,
   "metadata": {},
   "outputs": [
    {
     "data": {
      "text/plain": [
       "['2023',\n",
       " 'international',\n",
       " 'medical',\n",
       " 'university',\n",
       " 'imu',\n",
       " 'scholarship',\n",
       " 'for',\n",
       " 'international',\n",
       " 'students',\n",
       " 'apply',\n",
       " 'link',\n",
       " 'host',\n",
       " 'country',\n",
       " 'malaysia',\n",
       " 'study',\n",
       " 'level',\n",
       " 'bachelor',\n",
       " 'degree',\n",
       " 'eligible',\n",
       " 'countries',\n",
       " 'all',\n",
       " 'countries',\n",
       " 'benefits',\n",
       " 'rm4000',\n",
       " 'rm12000',\n",
       " 'deadline',\n",
       " 'september',\n",
       " '2023']"
      ]
     },
     "execution_count": 31,
     "metadata": {},
     "output_type": "execute_result"
    }
   ],
   "source": [
    "tokens = word_tokenize(text)\n",
    "tokens"
   ]
  },
  {
   "cell_type": "code",
   "execution_count": 32,
   "metadata": {},
   "outputs": [
    {
     "data": {
      "text/plain": [
       "['2023',\n",
       " 'international',\n",
       " 'medical',\n",
       " 'university',\n",
       " 'imu',\n",
       " 'scholarship',\n",
       " 'international',\n",
       " 'students',\n",
       " 'apply',\n",
       " 'link',\n",
       " 'host',\n",
       " 'country',\n",
       " 'malaysia',\n",
       " 'study',\n",
       " 'level',\n",
       " 'bachelor',\n",
       " 'degree',\n",
       " 'eligible',\n",
       " 'countries',\n",
       " 'countries',\n",
       " 'benefits',\n",
       " 'rm4000',\n",
       " 'rm12000',\n",
       " 'deadline',\n",
       " 'september',\n",
       " '2023']"
      ]
     },
     "execution_count": 32,
     "metadata": {},
     "output_type": "execute_result"
    }
   ],
   "source": [
    "stop_words = set(stopwords.words('english'))\n",
    "filtered_tokens = [word for word in tokens if word not in stop_words]\n",
    "filtered_tokens"
   ]
  },
  {
   "cell_type": "code",
   "execution_count": 33,
   "metadata": {},
   "outputs": [
    {
     "name": "stdout",
     "output_type": "stream",
     "text": [
      "2023 international medical university imu scholarship international students apply link host country malaysia study level bachelor degree eligible countries countries benefits rm4000 rm12000 deadline september 2023\n"
     ]
    }
   ],
   "source": [
    "cleaned_text = ' '.join(filtered_tokens)\n",
    "print(cleaned_text)"
   ]
  },
  {
   "cell_type": "code",
   "execution_count": 51,
   "metadata": {},
   "outputs": [],
   "source": [
    "# Assuming the text column in your CSV is named 'text_column', you can loop through it\n",
    "for index, row in df_edu.iterrows():\n",
    "    text = row['text']  \n",
    "\n",
    "\n",
    "    # Use langdetect to detect the language of the text\n",
    "    try:\n",
    "        language = detect(text)\n",
    "    except:\n",
    "        language = \"unknown\"  # Handle cases where language detection fails\n",
    "\n",
    "    if language == 'en' :\n",
    "        text = clean_text(text)\n",
    "        # Lowercasing\n",
    "        text = text.lower()\n",
    "\n",
    "        # Removing punctuation\n",
    "        text = text.translate(str.maketrans('', '', string.punctuation))\n",
    "\n",
    "        # Tokenization\n",
    "        tokens = word_tokenize(text)\n",
    "\n",
    "        # Removing stopwords\n",
    "        stop_words = set(stopwords.words('english'))\n",
    "        filtered_tokens = [word for word in tokens if word not in stop_words]\n",
    "\n",
    "        # Convert the filtered tokens back to a cleaned text\n",
    "        cleaned_text = ' '.join(filtered_tokens)\n",
    "\n",
    "        # Update the 'text' column in your dataframe with the cleaned text\n",
    "        df_edu.at[index, 'text'] = cleaned_text\n",
    "    else :\n",
    "        # Handle non-English text, e.g., you can choose to skip or flag it\n",
    "        df_edu.at[index, 'text'] = 'non_english_text'\n",
    "\n",
    "# Save the dataframe to a new CSV file\n",
    "df_edu.to_csv('../data/clean/edu_cleaned_data.csv', index=False)"
   ]
  },
  {
   "cell_type": "code",
   "execution_count": null,
   "metadata": {},
   "outputs": [
    {
     "ename": "TypeError",
     "evalue": "string indices must be integers, not 'str'",
     "output_type": "error",
     "traceback": [
      "\u001b[1;31m---------------------------------------------------------------------------\u001b[0m",
      "\u001b[1;31mTypeError\u001b[0m                                 Traceback (most recent call last)",
      "Cell \u001b[1;32mIn[42], line 2\u001b[0m\n\u001b[0;32m      1\u001b[0m \u001b[39mfor\u001b[39;00m i \u001b[39min\u001b[39;00m cleaned_text :\n\u001b[1;32m----> 2\u001b[0m     \u001b[39mprint\u001b[39m(cleaned_text[i])\n",
      "\u001b[1;31mTypeError\u001b[0m: string indices must be integers, not 'str'"
     ]
    }
   ],
   "source": []
  },
  {
   "cell_type": "code",
   "execution_count": null,
   "metadata": {},
   "outputs": [],
   "source": []
  }
 ],
 "metadata": {
  "kernelspec": {
   "display_name": "Python 3",
   "language": "python",
   "name": "python3"
  },
  "language_info": {
   "codemirror_mode": {
    "name": "ipython",
    "version": 3
   },
   "file_extension": ".py",
   "mimetype": "text/x-python",
   "name": "python",
   "nbconvert_exporter": "python",
   "pygments_lexer": "ipython3",
   "version": "3.11.2"
  },
  "orig_nbformat": 4
 },
 "nbformat": 4,
 "nbformat_minor": 2
}
